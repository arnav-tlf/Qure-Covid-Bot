{
 "cells": [
  {
   "cell_type": "markdown",
   "id": "50eca825",
   "metadata": {},
   "source": [
    "# ETL Application"
   ]
  },
  {
   "cell_type": "markdown",
   "id": "516b12bc",
   "metadata": {},
   "source": [
    "## Import Required Libraries & Load Data"
   ]
  },
  {
   "cell_type": "code",
   "execution_count": 1,
   "id": "bcb02d5d",
   "metadata": {
    "scrolled": true
   },
   "outputs": [],
   "source": [
    "import pandas as pd\n",
    "import warnings\n",
    "import psycopg2\n",
    "warnings.filterwarnings(\"ignore\")"
   ]
  },
  {
   "cell_type": "code",
   "execution_count": 2,
   "id": "1bde870a",
   "metadata": {},
   "outputs": [],
   "source": [
    "# county_data - Confirmed Covid Deaths in US by State and County"
   ]
  },
  {
   "cell_type": "code",
   "execution_count": 3,
   "id": "4ca5aee9",
   "metadata": {},
   "outputs": [],
   "source": [
    "county_data = pd.read_csv(\"C:\\\\Users\\\\LENOVO LEGION\\\\Desktop\\\\QureAssignment\\\\Qure.ai Data Engineer Assignment Files (2) (1)\\\\confirmed-covid-19-deaths-in-us-by-state-and-county copy.csv\")"
   ]
  },
  {
   "cell_type": "code",
   "execution_count": 4,
   "id": "9b09cfe7",
   "metadata": {},
   "outputs": [],
   "source": [
    "# state_data - State Level Data"
   ]
  },
  {
   "cell_type": "code",
   "execution_count": 5,
   "id": "de764654",
   "metadata": {},
   "outputs": [],
   "source": [
    "state_data = pd.read_csv(\"C:\\\\Users\\\\LENOVO LEGION\\\\Desktop\\\\QureAssignment\\\\Qure.ai Data Engineer Assignment Files (2) (1)\\\\covid-19-state-level-data copy.csv\")"
   ]
  },
  {
   "cell_type": "code",
   "execution_count": 6,
   "id": "3b195b5b",
   "metadata": {},
   "outputs": [],
   "source": [
    "# mobility_data - US Mobility Data"
   ]
  },
  {
   "cell_type": "code",
   "execution_count": 7,
   "id": "0eb1d3d8",
   "metadata": {},
   "outputs": [],
   "source": [
    "mobility_data = pd.read_csv(\"C:\\\\Users\\\\LENOVO LEGION\\\\Desktop\\\\QureAssignment\\\\Qure.ai Data Engineer Assignment Files (2) (1)\\\\us-mobility copy.csv\")"
   ]
  },
  {
   "cell_type": "markdown",
   "id": "13cc2de9",
   "metadata": {},
   "source": [
    "## Current Table View"
   ]
  },
  {
   "cell_type": "code",
   "execution_count": 68,
   "id": "651c79ae",
   "metadata": {
    "scrolled": true
   },
   "outputs": [
    {
     "data": {
      "text/html": [
       "<div>\n",
       "<style scoped>\n",
       "    .dataframe tbody tr th:only-of-type {\n",
       "        vertical-align: middle;\n",
       "    }\n",
       "\n",
       "    .dataframe tbody tr th {\n",
       "        vertical-align: top;\n",
       "    }\n",
       "\n",
       "    .dataframe thead th {\n",
       "        text-align: right;\n",
       "    }\n",
       "</style>\n",
       "<table border=\"1\" class=\"dataframe\">\n",
       "  <thead>\n",
       "    <tr style=\"text-align: right;\">\n",
       "      <th></th>\n",
       "      <th>county_fips</th>\n",
       "      <th>county</th>\n",
       "      <th>state_name_code</th>\n",
       "      <th>state_fips</th>\n",
       "      <th>date</th>\n",
       "      <th>deaths</th>\n",
       "      <th>lat</th>\n",
       "      <th>long</th>\n",
       "      <th>geometry</th>\n",
       "    </tr>\n",
       "  </thead>\n",
       "  <tbody>\n",
       "    <tr>\n",
       "      <th>0</th>\n",
       "      <td>0</td>\n",
       "      <td>Statewide Unallocated</td>\n",
       "      <td>AL</td>\n",
       "      <td>1</td>\n",
       "      <td>2020-01-22</td>\n",
       "      <td>0</td>\n",
       "      <td>NaN</td>\n",
       "      <td>NaN</td>\n",
       "      <td>NaN</td>\n",
       "    </tr>\n",
       "    <tr>\n",
       "      <th>1</th>\n",
       "      <td>0</td>\n",
       "      <td>Statewide Unallocated</td>\n",
       "      <td>AL</td>\n",
       "      <td>1</td>\n",
       "      <td>2020-01-23</td>\n",
       "      <td>0</td>\n",
       "      <td>NaN</td>\n",
       "      <td>NaN</td>\n",
       "      <td>NaN</td>\n",
       "    </tr>\n",
       "    <tr>\n",
       "      <th>2</th>\n",
       "      <td>0</td>\n",
       "      <td>Statewide Unallocated</td>\n",
       "      <td>AL</td>\n",
       "      <td>1</td>\n",
       "      <td>2020-01-24</td>\n",
       "      <td>0</td>\n",
       "      <td>NaN</td>\n",
       "      <td>NaN</td>\n",
       "      <td>NaN</td>\n",
       "    </tr>\n",
       "    <tr>\n",
       "      <th>3</th>\n",
       "      <td>0</td>\n",
       "      <td>Statewide Unallocated</td>\n",
       "      <td>AL</td>\n",
       "      <td>1</td>\n",
       "      <td>2020-01-25</td>\n",
       "      <td>0</td>\n",
       "      <td>NaN</td>\n",
       "      <td>NaN</td>\n",
       "      <td>NaN</td>\n",
       "    </tr>\n",
       "    <tr>\n",
       "      <th>4</th>\n",
       "      <td>0</td>\n",
       "      <td>Statewide Unallocated</td>\n",
       "      <td>AL</td>\n",
       "      <td>1</td>\n",
       "      <td>2020-01-26</td>\n",
       "      <td>0</td>\n",
       "      <td>NaN</td>\n",
       "      <td>NaN</td>\n",
       "      <td>NaN</td>\n",
       "    </tr>\n",
       "    <tr>\n",
       "      <th>...</th>\n",
       "      <td>...</td>\n",
       "      <td>...</td>\n",
       "      <td>...</td>\n",
       "      <td>...</td>\n",
       "      <td>...</td>\n",
       "      <td>...</td>\n",
       "      <td>...</td>\n",
       "      <td>...</td>\n",
       "      <td>...</td>\n",
       "    </tr>\n",
       "    <tr>\n",
       "      <th>600655</th>\n",
       "      <td>56045</td>\n",
       "      <td>Weston County</td>\n",
       "      <td>WY</td>\n",
       "      <td>56</td>\n",
       "      <td>2020-07-23</td>\n",
       "      <td>0</td>\n",
       "      <td>43.839612</td>\n",
       "      <td>-104.567488</td>\n",
       "      <td>POINT (-104.5674881 43.83961191)</td>\n",
       "    </tr>\n",
       "    <tr>\n",
       "      <th>600656</th>\n",
       "      <td>56045</td>\n",
       "      <td>Weston County</td>\n",
       "      <td>WY</td>\n",
       "      <td>56</td>\n",
       "      <td>2020-07-24</td>\n",
       "      <td>0</td>\n",
       "      <td>43.839612</td>\n",
       "      <td>-104.567488</td>\n",
       "      <td>POINT (-104.5674881 43.83961191)</td>\n",
       "    </tr>\n",
       "    <tr>\n",
       "      <th>600657</th>\n",
       "      <td>56045</td>\n",
       "      <td>Weston County</td>\n",
       "      <td>WY</td>\n",
       "      <td>56</td>\n",
       "      <td>2020-07-25</td>\n",
       "      <td>0</td>\n",
       "      <td>43.839612</td>\n",
       "      <td>-104.567488</td>\n",
       "      <td>POINT (-104.5674881 43.83961191)</td>\n",
       "    </tr>\n",
       "    <tr>\n",
       "      <th>600658</th>\n",
       "      <td>56045</td>\n",
       "      <td>Weston County</td>\n",
       "      <td>WY</td>\n",
       "      <td>56</td>\n",
       "      <td>2020-07-26</td>\n",
       "      <td>0</td>\n",
       "      <td>43.839612</td>\n",
       "      <td>-104.567488</td>\n",
       "      <td>POINT (-104.5674881 43.83961191)</td>\n",
       "    </tr>\n",
       "    <tr>\n",
       "      <th>600659</th>\n",
       "      <td>56045</td>\n",
       "      <td>Weston County</td>\n",
       "      <td>WY</td>\n",
       "      <td>56</td>\n",
       "      <td>2020-07-27</td>\n",
       "      <td>0</td>\n",
       "      <td>43.839612</td>\n",
       "      <td>-104.567488</td>\n",
       "      <td>POINT (-104.5674881 43.83961191)</td>\n",
       "    </tr>\n",
       "  </tbody>\n",
       "</table>\n",
       "<p>600660 rows × 9 columns</p>\n",
       "</div>"
      ],
      "text/plain": [
       "        county_fips                 county state_name_code  state_fips  \\\n",
       "0                 0  Statewide Unallocated              AL           1   \n",
       "1                 0  Statewide Unallocated              AL           1   \n",
       "2                 0  Statewide Unallocated              AL           1   \n",
       "3                 0  Statewide Unallocated              AL           1   \n",
       "4                 0  Statewide Unallocated              AL           1   \n",
       "...             ...                    ...             ...         ...   \n",
       "600655        56045          Weston County              WY          56   \n",
       "600656        56045          Weston County              WY          56   \n",
       "600657        56045          Weston County              WY          56   \n",
       "600658        56045          Weston County              WY          56   \n",
       "600659        56045          Weston County              WY          56   \n",
       "\n",
       "              date  deaths        lat        long  \\\n",
       "0       2020-01-22       0        NaN         NaN   \n",
       "1       2020-01-23       0        NaN         NaN   \n",
       "2       2020-01-24       0        NaN         NaN   \n",
       "3       2020-01-25       0        NaN         NaN   \n",
       "4       2020-01-26       0        NaN         NaN   \n",
       "...            ...     ...        ...         ...   \n",
       "600655  2020-07-23       0  43.839612 -104.567488   \n",
       "600656  2020-07-24       0  43.839612 -104.567488   \n",
       "600657  2020-07-25       0  43.839612 -104.567488   \n",
       "600658  2020-07-26       0  43.839612 -104.567488   \n",
       "600659  2020-07-27       0  43.839612 -104.567488   \n",
       "\n",
       "                                geometry  \n",
       "0                                    NaN  \n",
       "1                                    NaN  \n",
       "2                                    NaN  \n",
       "3                                    NaN  \n",
       "4                                    NaN  \n",
       "...                                  ...  \n",
       "600655  POINT (-104.5674881 43.83961191)  \n",
       "600656  POINT (-104.5674881 43.83961191)  \n",
       "600657  POINT (-104.5674881 43.83961191)  \n",
       "600658  POINT (-104.5674881 43.83961191)  \n",
       "600659  POINT (-104.5674881 43.83961191)  \n",
       "\n",
       "[600660 rows x 9 columns]"
      ]
     },
     "execution_count": 68,
     "metadata": {},
     "output_type": "execute_result"
    }
   ],
   "source": [
    "county_data"
   ]
  },
  {
   "cell_type": "code",
   "execution_count": 69,
   "id": "4d64c4ad",
   "metadata": {
    "scrolled": true
   },
   "outputs": [
    {
     "data": {
      "text/html": [
       "<div>\n",
       "<style scoped>\n",
       "    .dataframe tbody tr th:only-of-type {\n",
       "        vertical-align: middle;\n",
       "    }\n",
       "\n",
       "    .dataframe tbody tr th {\n",
       "        vertical-align: top;\n",
       "    }\n",
       "\n",
       "    .dataframe thead th {\n",
       "        text-align: right;\n",
       "    }\n",
       "</style>\n",
       "<table border=\"1\" class=\"dataframe\">\n",
       "  <thead>\n",
       "    <tr style=\"text-align: right;\">\n",
       "      <th></th>\n",
       "      <th>date</th>\n",
       "      <th>state</th>\n",
       "      <th>state_fips</th>\n",
       "      <th>cases</th>\n",
       "      <th>deaths</th>\n",
       "    </tr>\n",
       "  </thead>\n",
       "  <tbody>\n",
       "    <tr>\n",
       "      <th>0</th>\n",
       "      <td>2020-01-21</td>\n",
       "      <td>Washington</td>\n",
       "      <td>53</td>\n",
       "      <td>1</td>\n",
       "      <td>0</td>\n",
       "    </tr>\n",
       "    <tr>\n",
       "      <th>1</th>\n",
       "      <td>2020-01-22</td>\n",
       "      <td>Washington</td>\n",
       "      <td>53</td>\n",
       "      <td>1</td>\n",
       "      <td>0</td>\n",
       "    </tr>\n",
       "    <tr>\n",
       "      <th>2</th>\n",
       "      <td>2020-01-23</td>\n",
       "      <td>Washington</td>\n",
       "      <td>53</td>\n",
       "      <td>1</td>\n",
       "      <td>0</td>\n",
       "    </tr>\n",
       "    <tr>\n",
       "      <th>3</th>\n",
       "      <td>2020-01-24</td>\n",
       "      <td>Illinois</td>\n",
       "      <td>17</td>\n",
       "      <td>1</td>\n",
       "      <td>0</td>\n",
       "    </tr>\n",
       "    <tr>\n",
       "      <th>4</th>\n",
       "      <td>2020-01-24</td>\n",
       "      <td>Washington</td>\n",
       "      <td>53</td>\n",
       "      <td>1</td>\n",
       "      <td>0</td>\n",
       "    </tr>\n",
       "    <tr>\n",
       "      <th>...</th>\n",
       "      <td>...</td>\n",
       "      <td>...</td>\n",
       "      <td>...</td>\n",
       "      <td>...</td>\n",
       "      <td>...</td>\n",
       "    </tr>\n",
       "    <tr>\n",
       "      <th>8149</th>\n",
       "      <td>2020-07-28</td>\n",
       "      <td>Virginia</td>\n",
       "      <td>51</td>\n",
       "      <td>86994</td>\n",
       "      <td>2095</td>\n",
       "    </tr>\n",
       "    <tr>\n",
       "      <th>8150</th>\n",
       "      <td>2020-07-28</td>\n",
       "      <td>Washington</td>\n",
       "      <td>53</td>\n",
       "      <td>56576</td>\n",
       "      <td>1633</td>\n",
       "    </tr>\n",
       "    <tr>\n",
       "      <th>8151</th>\n",
       "      <td>2020-07-28</td>\n",
       "      <td>West Virginia</td>\n",
       "      <td>54</td>\n",
       "      <td>6173</td>\n",
       "      <td>111</td>\n",
       "    </tr>\n",
       "    <tr>\n",
       "      <th>8152</th>\n",
       "      <td>2020-07-28</td>\n",
       "      <td>Wisconsin</td>\n",
       "      <td>55</td>\n",
       "      <td>54114</td>\n",
       "      <td>916</td>\n",
       "    </tr>\n",
       "    <tr>\n",
       "      <th>8153</th>\n",
       "      <td>2020-07-28</td>\n",
       "      <td>Wyoming</td>\n",
       "      <td>56</td>\n",
       "      <td>2589</td>\n",
       "      <td>26</td>\n",
       "    </tr>\n",
       "  </tbody>\n",
       "</table>\n",
       "<p>8154 rows × 5 columns</p>\n",
       "</div>"
      ],
      "text/plain": [
       "            date          state  state_fips  cases  deaths\n",
       "0     2020-01-21     Washington          53      1       0\n",
       "1     2020-01-22     Washington          53      1       0\n",
       "2     2020-01-23     Washington          53      1       0\n",
       "3     2020-01-24       Illinois          17      1       0\n",
       "4     2020-01-24     Washington          53      1       0\n",
       "...          ...            ...         ...    ...     ...\n",
       "8149  2020-07-28       Virginia          51  86994    2095\n",
       "8150  2020-07-28     Washington          53  56576    1633\n",
       "8151  2020-07-28  West Virginia          54   6173     111\n",
       "8152  2020-07-28      Wisconsin          55  54114     916\n",
       "8153  2020-07-28        Wyoming          56   2589      26\n",
       "\n",
       "[8154 rows x 5 columns]"
      ]
     },
     "execution_count": 69,
     "metadata": {},
     "output_type": "execute_result"
    }
   ],
   "source": [
    "state_data"
   ]
  },
  {
   "cell_type": "code",
   "execution_count": 70,
   "id": "c2027f0b",
   "metadata": {
    "scrolled": true
   },
   "outputs": [
    {
     "data": {
      "text/html": [
       "<div>\n",
       "<style scoped>\n",
       "    .dataframe tbody tr th:only-of-type {\n",
       "        vertical-align: middle;\n",
       "    }\n",
       "\n",
       "    .dataframe tbody tr th {\n",
       "        vertical-align: top;\n",
       "    }\n",
       "\n",
       "    .dataframe thead th {\n",
       "        text-align: right;\n",
       "    }\n",
       "</style>\n",
       "<table border=\"1\" class=\"dataframe\">\n",
       "  <thead>\n",
       "    <tr style=\"text-align: right;\">\n",
       "      <th></th>\n",
       "      <th>state</th>\n",
       "      <th>county</th>\n",
       "      <th>date</th>\n",
       "      <th>retail</th>\n",
       "      <th>grocery_and_pharmacy</th>\n",
       "      <th>parks</th>\n",
       "      <th>transit_stations</th>\n",
       "      <th>workplaces</th>\n",
       "      <th>residential</th>\n",
       "    </tr>\n",
       "  </thead>\n",
       "  <tbody>\n",
       "    <tr>\n",
       "      <th>0</th>\n",
       "      <td>Total</td>\n",
       "      <td>Total</td>\n",
       "      <td>2020-02-15</td>\n",
       "      <td>6.0</td>\n",
       "      <td>2.0</td>\n",
       "      <td>15.0</td>\n",
       "      <td>3.0</td>\n",
       "      <td>2.0</td>\n",
       "      <td>-1.0</td>\n",
       "    </tr>\n",
       "    <tr>\n",
       "      <th>1</th>\n",
       "      <td>Total</td>\n",
       "      <td>Total</td>\n",
       "      <td>2020-02-16</td>\n",
       "      <td>7.0</td>\n",
       "      <td>1.0</td>\n",
       "      <td>16.0</td>\n",
       "      <td>2.0</td>\n",
       "      <td>0.0</td>\n",
       "      <td>-1.0</td>\n",
       "    </tr>\n",
       "    <tr>\n",
       "      <th>2</th>\n",
       "      <td>Total</td>\n",
       "      <td>Total</td>\n",
       "      <td>2020-02-17</td>\n",
       "      <td>6.0</td>\n",
       "      <td>0.0</td>\n",
       "      <td>28.0</td>\n",
       "      <td>-9.0</td>\n",
       "      <td>-24.0</td>\n",
       "      <td>5.0</td>\n",
       "    </tr>\n",
       "    <tr>\n",
       "      <th>3</th>\n",
       "      <td>Total</td>\n",
       "      <td>Total</td>\n",
       "      <td>2020-02-18</td>\n",
       "      <td>0.0</td>\n",
       "      <td>-1.0</td>\n",
       "      <td>6.0</td>\n",
       "      <td>1.0</td>\n",
       "      <td>0.0</td>\n",
       "      <td>1.0</td>\n",
       "    </tr>\n",
       "    <tr>\n",
       "      <th>4</th>\n",
       "      <td>Total</td>\n",
       "      <td>Total</td>\n",
       "      <td>2020-02-19</td>\n",
       "      <td>2.0</td>\n",
       "      <td>0.0</td>\n",
       "      <td>8.0</td>\n",
       "      <td>1.0</td>\n",
       "      <td>1.0</td>\n",
       "      <td>0.0</td>\n",
       "    </tr>\n",
       "    <tr>\n",
       "      <th>...</th>\n",
       "      <td>...</td>\n",
       "      <td>...</td>\n",
       "      <td>...</td>\n",
       "      <td>...</td>\n",
       "      <td>...</td>\n",
       "      <td>...</td>\n",
       "      <td>...</td>\n",
       "      <td>...</td>\n",
       "      <td>...</td>\n",
       "    </tr>\n",
       "    <tr>\n",
       "      <th>155055</th>\n",
       "      <td>Wyoming</td>\n",
       "      <td>Weston County</td>\n",
       "      <td>2020-04-06</td>\n",
       "      <td>NaN</td>\n",
       "      <td>NaN</td>\n",
       "      <td>NaN</td>\n",
       "      <td>NaN</td>\n",
       "      <td>-39.0</td>\n",
       "      <td>NaN</td>\n",
       "    </tr>\n",
       "    <tr>\n",
       "      <th>155056</th>\n",
       "      <td>Wyoming</td>\n",
       "      <td>Weston County</td>\n",
       "      <td>2020-04-07</td>\n",
       "      <td>NaN</td>\n",
       "      <td>NaN</td>\n",
       "      <td>NaN</td>\n",
       "      <td>NaN</td>\n",
       "      <td>-37.0</td>\n",
       "      <td>NaN</td>\n",
       "    </tr>\n",
       "    <tr>\n",
       "      <th>155057</th>\n",
       "      <td>Wyoming</td>\n",
       "      <td>Weston County</td>\n",
       "      <td>2020-04-08</td>\n",
       "      <td>NaN</td>\n",
       "      <td>NaN</td>\n",
       "      <td>NaN</td>\n",
       "      <td>NaN</td>\n",
       "      <td>-36.0</td>\n",
       "      <td>NaN</td>\n",
       "    </tr>\n",
       "    <tr>\n",
       "      <th>155058</th>\n",
       "      <td>Wyoming</td>\n",
       "      <td>Weston County</td>\n",
       "      <td>2020-04-09</td>\n",
       "      <td>NaN</td>\n",
       "      <td>NaN</td>\n",
       "      <td>NaN</td>\n",
       "      <td>NaN</td>\n",
       "      <td>-31.0</td>\n",
       "      <td>NaN</td>\n",
       "    </tr>\n",
       "    <tr>\n",
       "      <th>155059</th>\n",
       "      <td>Wyoming</td>\n",
       "      <td>Weston County</td>\n",
       "      <td>2020-04-10</td>\n",
       "      <td>NaN</td>\n",
       "      <td>NaN</td>\n",
       "      <td>NaN</td>\n",
       "      <td>NaN</td>\n",
       "      <td>-43.0</td>\n",
       "      <td>NaN</td>\n",
       "    </tr>\n",
       "  </tbody>\n",
       "</table>\n",
       "<p>155060 rows × 9 columns</p>\n",
       "</div>"
      ],
      "text/plain": [
       "          state         county        date  retail  grocery_and_pharmacy  \\\n",
       "0         Total          Total  2020-02-15     6.0                   2.0   \n",
       "1         Total          Total  2020-02-16     7.0                   1.0   \n",
       "2         Total          Total  2020-02-17     6.0                   0.0   \n",
       "3         Total          Total  2020-02-18     0.0                  -1.0   \n",
       "4         Total          Total  2020-02-19     2.0                   0.0   \n",
       "...         ...            ...         ...     ...                   ...   \n",
       "155055  Wyoming  Weston County  2020-04-06     NaN                   NaN   \n",
       "155056  Wyoming  Weston County  2020-04-07     NaN                   NaN   \n",
       "155057  Wyoming  Weston County  2020-04-08     NaN                   NaN   \n",
       "155058  Wyoming  Weston County  2020-04-09     NaN                   NaN   \n",
       "155059  Wyoming  Weston County  2020-04-10     NaN                   NaN   \n",
       "\n",
       "        parks  transit_stations  workplaces  residential  \n",
       "0        15.0               3.0         2.0         -1.0  \n",
       "1        16.0               2.0         0.0         -1.0  \n",
       "2        28.0              -9.0       -24.0          5.0  \n",
       "3         6.0               1.0         0.0          1.0  \n",
       "4         8.0               1.0         1.0          0.0  \n",
       "...       ...               ...         ...          ...  \n",
       "155055    NaN               NaN       -39.0          NaN  \n",
       "155056    NaN               NaN       -37.0          NaN  \n",
       "155057    NaN               NaN       -36.0          NaN  \n",
       "155058    NaN               NaN       -31.0          NaN  \n",
       "155059    NaN               NaN       -43.0          NaN  \n",
       "\n",
       "[155060 rows x 9 columns]"
      ]
     },
     "execution_count": 70,
     "metadata": {},
     "output_type": "execute_result"
    }
   ],
   "source": [
    "mobility_data"
   ]
  },
  {
   "cell_type": "markdown",
   "id": "ffcefc47",
   "metadata": {},
   "source": [
    "# Confirmed Covid Deaths in US by State and County"
   ]
  },
  {
   "cell_type": "code",
   "execution_count": 11,
   "id": "34522a76",
   "metadata": {},
   "outputs": [],
   "source": [
    "county_data.drop([\"Unnamed: 0\"], 1, inplace = True) # Drop redundant Index column"
   ]
  },
  {
   "cell_type": "code",
   "execution_count": 12,
   "id": "00b3a841",
   "metadata": {
    "scrolled": true
   },
   "outputs": [
    {
     "data": {
      "text/plain": [
       "county_fips      int64\n",
       "county_name     object\n",
       "state_name      object\n",
       "state_fips       int64\n",
       "date            object\n",
       "deaths           int64\n",
       "lat            float64\n",
       "long           float64\n",
       "geometry        object\n",
       "dtype: object"
      ]
     },
     "execution_count": 12,
     "metadata": {},
     "output_type": "execute_result"
    }
   ],
   "source": [
    "county_data.dtypes  # Check consistency in Data Types"
   ]
  },
  {
   "cell_type": "code",
   "execution_count": 13,
   "id": "4cf9463b",
   "metadata": {},
   "outputs": [
    {
     "data": {
      "text/plain": [
       "county_fips       0\n",
       "county_name       0\n",
       "state_name        0\n",
       "state_fips        0\n",
       "date              0\n",
       "deaths            0\n",
       "lat            9964\n",
       "long           9964\n",
       "geometry       9964\n",
       "dtype: int64"
      ]
     },
     "execution_count": 13,
     "metadata": {},
     "output_type": "execute_result"
    }
   ],
   "source": [
    "county_data.isna().sum()  #Checking total count of NaN values in each column of the dataframe"
   ]
  },
  {
   "cell_type": "code",
   "execution_count": 14,
   "id": "487dca50",
   "metadata": {},
   "outputs": [
    {
     "data": {
      "text/html": [
       "<div>\n",
       "<style scoped>\n",
       "    .dataframe tbody tr th:only-of-type {\n",
       "        vertical-align: middle;\n",
       "    }\n",
       "\n",
       "    .dataframe tbody tr th {\n",
       "        vertical-align: top;\n",
       "    }\n",
       "\n",
       "    .dataframe thead th {\n",
       "        text-align: right;\n",
       "    }\n",
       "</style>\n",
       "<table border=\"1\" class=\"dataframe\">\n",
       "  <thead>\n",
       "    <tr style=\"text-align: right;\">\n",
       "      <th></th>\n",
       "      <th>county_fips</th>\n",
       "      <th>county_name</th>\n",
       "      <th>state_name</th>\n",
       "      <th>state_fips</th>\n",
       "      <th>date</th>\n",
       "      <th>deaths</th>\n",
       "      <th>lat</th>\n",
       "      <th>long</th>\n",
       "      <th>geometry</th>\n",
       "    </tr>\n",
       "  </thead>\n",
       "  <tbody>\n",
       "    <tr>\n",
       "      <th>0</th>\n",
       "      <td>0</td>\n",
       "      <td>Statewide Unallocated</td>\n",
       "      <td>AL</td>\n",
       "      <td>1</td>\n",
       "      <td>2020-01-22</td>\n",
       "      <td>0</td>\n",
       "      <td>NaN</td>\n",
       "      <td>NaN</td>\n",
       "      <td>NaN</td>\n",
       "    </tr>\n",
       "    <tr>\n",
       "      <th>362411</th>\n",
       "      <td>37003</td>\n",
       "      <td>Alexander County</td>\n",
       "      <td>NC</td>\n",
       "      <td>37</td>\n",
       "      <td>2020-06-05</td>\n",
       "      <td>0</td>\n",
       "      <td>35.92238</td>\n",
       "      <td>-81.177519</td>\n",
       "      <td>POINT (-81.17751948 35.9223796)</td>\n",
       "    </tr>\n",
       "  </tbody>\n",
       "</table>\n",
       "</div>"
      ],
      "text/plain": [
       "        county_fips            county_name state_name  state_fips        date  \\\n",
       "0                 0  Statewide Unallocated         AL           1  2020-01-22   \n",
       "362411        37003       Alexander County         NC          37  2020-06-05   \n",
       "\n",
       "        deaths       lat       long                         geometry  \n",
       "0            0       NaN        NaN                              NaN  \n",
       "362411       0  35.92238 -81.177519  POINT (-81.17751948 35.9223796)  "
      ]
     },
     "execution_count": 14,
     "metadata": {},
     "output_type": "execute_result"
    }
   ],
   "source": [
    "county_data.sort_values('deaths', ascending = True).head(2)  # Checking for any negative death count"
   ]
  },
  {
   "cell_type": "code",
   "execution_count": 15,
   "id": "2f4d0d6d",
   "metadata": {},
   "outputs": [
    {
     "data": {
      "text/html": [
       "<div>\n",
       "<style scoped>\n",
       "    .dataframe tbody tr th:only-of-type {\n",
       "        vertical-align: middle;\n",
       "    }\n",
       "\n",
       "    .dataframe tbody tr th {\n",
       "        vertical-align: top;\n",
       "    }\n",
       "\n",
       "    .dataframe thead th {\n",
       "        text-align: right;\n",
       "    }\n",
       "</style>\n",
       "<table border=\"1\" class=\"dataframe\">\n",
       "  <thead>\n",
       "    <tr style=\"text-align: right;\">\n",
       "      <th></th>\n",
       "      <th>county_fips</th>\n",
       "      <th>county_name</th>\n",
       "      <th>state_name</th>\n",
       "      <th>state_fips</th>\n",
       "      <th>date</th>\n",
       "      <th>deaths</th>\n",
       "      <th>lat</th>\n",
       "      <th>long</th>\n",
       "      <th>geometry</th>\n",
       "    </tr>\n",
       "  </thead>\n",
       "  <tbody>\n",
       "    <tr>\n",
       "      <th>354755</th>\n",
       "      <td>36047</td>\n",
       "      <td>Kings County</td>\n",
       "      <td>NY</td>\n",
       "      <td>36</td>\n",
       "      <td>2020-07-27</td>\n",
       "      <td>7237</td>\n",
       "      <td>40.636182</td>\n",
       "      <td>-73.949356</td>\n",
       "      <td>POINT (-73.94935552 40.6361825)</td>\n",
       "    </tr>\n",
       "    <tr>\n",
       "      <th>354754</th>\n",
       "      <td>36047</td>\n",
       "      <td>Kings County</td>\n",
       "      <td>NY</td>\n",
       "      <td>36</td>\n",
       "      <td>2020-07-26</td>\n",
       "      <td>7234</td>\n",
       "      <td>40.636182</td>\n",
       "      <td>-73.949356</td>\n",
       "      <td>POINT (-73.94935552 40.6361825)</td>\n",
       "    </tr>\n",
       "    <tr>\n",
       "      <th>354752</th>\n",
       "      <td>36047</td>\n",
       "      <td>Kings County</td>\n",
       "      <td>NY</td>\n",
       "      <td>36</td>\n",
       "      <td>2020-07-24</td>\n",
       "      <td>7232</td>\n",
       "      <td>40.636182</td>\n",
       "      <td>-73.949356</td>\n",
       "      <td>POINT (-73.94935552 40.6361825)</td>\n",
       "    </tr>\n",
       "    <tr>\n",
       "      <th>354753</th>\n",
       "      <td>36047</td>\n",
       "      <td>Kings County</td>\n",
       "      <td>NY</td>\n",
       "      <td>36</td>\n",
       "      <td>2020-07-25</td>\n",
       "      <td>7232</td>\n",
       "      <td>40.636182</td>\n",
       "      <td>-73.949356</td>\n",
       "      <td>POINT (-73.94935552 40.6361825)</td>\n",
       "    </tr>\n",
       "    <tr>\n",
       "      <th>354751</th>\n",
       "      <td>36047</td>\n",
       "      <td>Kings County</td>\n",
       "      <td>NY</td>\n",
       "      <td>36</td>\n",
       "      <td>2020-07-23</td>\n",
       "      <td>7222</td>\n",
       "      <td>40.636182</td>\n",
       "      <td>-73.949356</td>\n",
       "      <td>POINT (-73.94935552 40.6361825)</td>\n",
       "    </tr>\n",
       "  </tbody>\n",
       "</table>\n",
       "</div>"
      ],
      "text/plain": [
       "        county_fips   county_name state_name  state_fips        date  deaths  \\\n",
       "354755        36047  Kings County         NY          36  2020-07-27    7237   \n",
       "354754        36047  Kings County         NY          36  2020-07-26    7234   \n",
       "354752        36047  Kings County         NY          36  2020-07-24    7232   \n",
       "354753        36047  Kings County         NY          36  2020-07-25    7232   \n",
       "354751        36047  Kings County         NY          36  2020-07-23    7222   \n",
       "\n",
       "              lat       long                         geometry  \n",
       "354755  40.636182 -73.949356  POINT (-73.94935552 40.6361825)  \n",
       "354754  40.636182 -73.949356  POINT (-73.94935552 40.6361825)  \n",
       "354752  40.636182 -73.949356  POINT (-73.94935552 40.6361825)  \n",
       "354753  40.636182 -73.949356  POINT (-73.94935552 40.6361825)  \n",
       "354751  40.636182 -73.949356  POINT (-73.94935552 40.6361825)  "
      ]
     },
     "execution_count": 15,
     "metadata": {},
     "output_type": "execute_result"
    }
   ],
   "source": [
    "county_data.sort_values('deaths', ascending = False).head(5)    # Checking Max death count"
   ]
  },
  {
   "cell_type": "markdown",
   "id": "dc6be657",
   "metadata": {},
   "source": [
    "### Observation - Death count is cumulative"
   ]
  },
  {
   "cell_type": "code",
   "execution_count": 16,
   "id": "4d016f48",
   "metadata": {
    "scrolled": true
   },
   "outputs": [
    {
     "name": "stdout",
     "output_type": "stream",
     "text": [
      "The Earliest Date in this column is 2020-01-22\n",
      "The Latest Date in this column is 2020-07-27\n"
     ]
    }
   ],
   "source": [
    "#Check Date Range for abnormalities\n",
    "print( \"The Earliest Date in this column is\", county_data.date.min())\n",
    "print( \"The Latest Date in this column is\", county_data.date.max())"
   ]
  },
  {
   "cell_type": "code",
   "execution_count": 17,
   "id": "f632cc86",
   "metadata": {},
   "outputs": [
    {
     "data": {
      "text/html": [
       "<div>\n",
       "<style scoped>\n",
       "    .dataframe tbody tr th:only-of-type {\n",
       "        vertical-align: middle;\n",
       "    }\n",
       "\n",
       "    .dataframe tbody tr th {\n",
       "        vertical-align: top;\n",
       "    }\n",
       "\n",
       "    .dataframe thead th {\n",
       "        text-align: right;\n",
       "    }\n",
       "</style>\n",
       "<table border=\"1\" class=\"dataframe\">\n",
       "  <thead>\n",
       "    <tr style=\"text-align: right;\">\n",
       "      <th></th>\n",
       "      <th>county_fips</th>\n",
       "      <th>county_name</th>\n",
       "      <th>state_name</th>\n",
       "      <th>state_fips</th>\n",
       "      <th>date</th>\n",
       "      <th>deaths</th>\n",
       "      <th>lat</th>\n",
       "      <th>long</th>\n",
       "      <th>geometry</th>\n",
       "    </tr>\n",
       "  </thead>\n",
       "  <tbody>\n",
       "    <tr>\n",
       "      <th>0</th>\n",
       "      <td>0</td>\n",
       "      <td>Statewide Unallocated</td>\n",
       "      <td>AL</td>\n",
       "      <td>1</td>\n",
       "      <td>2020-01-22</td>\n",
       "      <td>0</td>\n",
       "      <td>NaN</td>\n",
       "      <td>NaN</td>\n",
       "      <td>NaN</td>\n",
       "    </tr>\n",
       "    <tr>\n",
       "      <th>1</th>\n",
       "      <td>0</td>\n",
       "      <td>Statewide Unallocated</td>\n",
       "      <td>AL</td>\n",
       "      <td>1</td>\n",
       "      <td>2020-01-23</td>\n",
       "      <td>0</td>\n",
       "      <td>NaN</td>\n",
       "      <td>NaN</td>\n",
       "      <td>NaN</td>\n",
       "    </tr>\n",
       "    <tr>\n",
       "      <th>2</th>\n",
       "      <td>0</td>\n",
       "      <td>Statewide Unallocated</td>\n",
       "      <td>AL</td>\n",
       "      <td>1</td>\n",
       "      <td>2020-01-24</td>\n",
       "      <td>0</td>\n",
       "      <td>NaN</td>\n",
       "      <td>NaN</td>\n",
       "      <td>NaN</td>\n",
       "    </tr>\n",
       "    <tr>\n",
       "      <th>3</th>\n",
       "      <td>0</td>\n",
       "      <td>Statewide Unallocated</td>\n",
       "      <td>AL</td>\n",
       "      <td>1</td>\n",
       "      <td>2020-01-25</td>\n",
       "      <td>0</td>\n",
       "      <td>NaN</td>\n",
       "      <td>NaN</td>\n",
       "      <td>NaN</td>\n",
       "    </tr>\n",
       "    <tr>\n",
       "      <th>4</th>\n",
       "      <td>0</td>\n",
       "      <td>Statewide Unallocated</td>\n",
       "      <td>AL</td>\n",
       "      <td>1</td>\n",
       "      <td>2020-01-26</td>\n",
       "      <td>0</td>\n",
       "      <td>NaN</td>\n",
       "      <td>NaN</td>\n",
       "      <td>NaN</td>\n",
       "    </tr>\n",
       "    <tr>\n",
       "      <th>...</th>\n",
       "      <td>...</td>\n",
       "      <td>...</td>\n",
       "      <td>...</td>\n",
       "      <td>...</td>\n",
       "      <td>...</td>\n",
       "      <td>...</td>\n",
       "      <td>...</td>\n",
       "      <td>...</td>\n",
       "      <td>...</td>\n",
       "    </tr>\n",
       "    <tr>\n",
       "      <th>596331</th>\n",
       "      <td>0</td>\n",
       "      <td>Statewide Unallocated</td>\n",
       "      <td>WY</td>\n",
       "      <td>56</td>\n",
       "      <td>2020-07-23</td>\n",
       "      <td>0</td>\n",
       "      <td>NaN</td>\n",
       "      <td>NaN</td>\n",
       "      <td>NaN</td>\n",
       "    </tr>\n",
       "    <tr>\n",
       "      <th>596332</th>\n",
       "      <td>0</td>\n",
       "      <td>Statewide Unallocated</td>\n",
       "      <td>WY</td>\n",
       "      <td>56</td>\n",
       "      <td>2020-07-24</td>\n",
       "      <td>0</td>\n",
       "      <td>NaN</td>\n",
       "      <td>NaN</td>\n",
       "      <td>NaN</td>\n",
       "    </tr>\n",
       "    <tr>\n",
       "      <th>596333</th>\n",
       "      <td>0</td>\n",
       "      <td>Statewide Unallocated</td>\n",
       "      <td>WY</td>\n",
       "      <td>56</td>\n",
       "      <td>2020-07-25</td>\n",
       "      <td>0</td>\n",
       "      <td>NaN</td>\n",
       "      <td>NaN</td>\n",
       "      <td>NaN</td>\n",
       "    </tr>\n",
       "    <tr>\n",
       "      <th>596334</th>\n",
       "      <td>0</td>\n",
       "      <td>Statewide Unallocated</td>\n",
       "      <td>WY</td>\n",
       "      <td>56</td>\n",
       "      <td>2020-07-26</td>\n",
       "      <td>0</td>\n",
       "      <td>NaN</td>\n",
       "      <td>NaN</td>\n",
       "      <td>NaN</td>\n",
       "    </tr>\n",
       "    <tr>\n",
       "      <th>596335</th>\n",
       "      <td>0</td>\n",
       "      <td>Statewide Unallocated</td>\n",
       "      <td>WY</td>\n",
       "      <td>56</td>\n",
       "      <td>2020-07-27</td>\n",
       "      <td>0</td>\n",
       "      <td>NaN</td>\n",
       "      <td>NaN</td>\n",
       "      <td>NaN</td>\n",
       "    </tr>\n",
       "  </tbody>\n",
       "</table>\n",
       "<p>9964 rows × 9 columns</p>\n",
       "</div>"
      ],
      "text/plain": [
       "        county_fips            county_name state_name  state_fips        date  \\\n",
       "0                 0  Statewide Unallocated         AL           1  2020-01-22   \n",
       "1                 0  Statewide Unallocated         AL           1  2020-01-23   \n",
       "2                 0  Statewide Unallocated         AL           1  2020-01-24   \n",
       "3                 0  Statewide Unallocated         AL           1  2020-01-25   \n",
       "4                 0  Statewide Unallocated         AL           1  2020-01-26   \n",
       "...             ...                    ...        ...         ...         ...   \n",
       "596331            0  Statewide Unallocated         WY          56  2020-07-23   \n",
       "596332            0  Statewide Unallocated         WY          56  2020-07-24   \n",
       "596333            0  Statewide Unallocated         WY          56  2020-07-25   \n",
       "596334            0  Statewide Unallocated         WY          56  2020-07-26   \n",
       "596335            0  Statewide Unallocated         WY          56  2020-07-27   \n",
       "\n",
       "        deaths  lat  long geometry  \n",
       "0            0  NaN   NaN      NaN  \n",
       "1            0  NaN   NaN      NaN  \n",
       "2            0  NaN   NaN      NaN  \n",
       "3            0  NaN   NaN      NaN  \n",
       "4            0  NaN   NaN      NaN  \n",
       "...        ...  ...   ...      ...  \n",
       "596331       0  NaN   NaN      NaN  \n",
       "596332       0  NaN   NaN      NaN  \n",
       "596333       0  NaN   NaN      NaN  \n",
       "596334       0  NaN   NaN      NaN  \n",
       "596335       0  NaN   NaN      NaN  \n",
       "\n",
       "[9964 rows x 9 columns]"
      ]
     },
     "execution_count": 17,
     "metadata": {},
     "output_type": "execute_result"
    }
   ],
   "source": [
    "county_data[county_data['geometry'].isna()]    # Extracting rows with NaN in lat, long, geomtry "
   ]
  },
  {
   "cell_type": "code",
   "execution_count": 18,
   "id": "fcd30813",
   "metadata": {},
   "outputs": [
    {
     "data": {
      "text/plain": [
       "array(['Statewide Unallocated', 'Wade Hampton Census Area',\n",
       "       'Grand Princess Cruise Ship', 'New York City Unallocated/Probable'],\n",
       "      dtype=object)"
      ]
     },
     "execution_count": 18,
     "metadata": {},
     "output_type": "execute_result"
    }
   ],
   "source": [
    "pd.unique(county_data[county_data['geometry'].isna()].county_name)    # Counties with missing location data."
   ]
  },
  {
   "cell_type": "code",
   "execution_count": 19,
   "id": "667af32f",
   "metadata": {
    "scrolled": true
   },
   "outputs": [
    {
     "data": {
      "text/plain": [
       "0"
      ]
     },
     "execution_count": 19,
     "metadata": {},
     "output_type": "execute_result"
    }
   ],
   "source": [
    "county_data.duplicated().sum()  # Checking for duplicate rows"
   ]
  },
  {
   "cell_type": "code",
   "execution_count": 20,
   "id": "c3c4f0bf",
   "metadata": {},
   "outputs": [],
   "source": [
    "# Rename Columns to maintain column nomenclature consistency between the three tables\n",
    "county_data.rename(columns = {'county_name':'county', 'state_name':'state_name_code'}, inplace = True)"
   ]
  },
  {
   "cell_type": "code",
   "execution_count": 21,
   "id": "2cab8e9a",
   "metadata": {},
   "outputs": [],
   "source": [
    "county_data.to_csv('Clean Data\\\\county_data.csv', index = False)  # Creating CSV post-processing to upload to PostgresSQL"
   ]
  },
  {
   "cell_type": "markdown",
   "id": "5d5a4da5",
   "metadata": {},
   "source": [
    "# State Level Data"
   ]
  },
  {
   "cell_type": "code",
   "execution_count": 22,
   "id": "6ef6fe22",
   "metadata": {},
   "outputs": [],
   "source": [
    "state_data.drop(['Unnamed: 0'], 1, inplace = True)"
   ]
  },
  {
   "cell_type": "code",
   "execution_count": 23,
   "id": "04f8b769",
   "metadata": {
    "scrolled": false
   },
   "outputs": [
    {
     "data": {
      "text/plain": [
       "0"
      ]
     },
     "execution_count": 23,
     "metadata": {},
     "output_type": "execute_result"
    }
   ],
   "source": [
    "state_data.isna().sum().sum()   # No missing values in dataframe"
   ]
  },
  {
   "cell_type": "code",
   "execution_count": 24,
   "id": "3c189c1e",
   "metadata": {
    "scrolled": false
   },
   "outputs": [
    {
     "name": "stdout",
     "output_type": "stream",
     "text": [
      "The Earliest Date in this column is 2020-01-21\n",
      "The Latest Date in this column is 2020-07-28\n"
     ]
    }
   ],
   "source": [
    "#Check Date Range for abnormalities\n",
    "print( \"The Earliest Date in this column is\", state_data.date.min())\n",
    "print( \"The Latest Date in this column is\", state_data.date.max())"
   ]
  },
  {
   "cell_type": "code",
   "execution_count": 25,
   "id": "f89e8132",
   "metadata": {},
   "outputs": [
    {
     "data": {
      "text/html": [
       "<div>\n",
       "<style scoped>\n",
       "    .dataframe tbody tr th:only-of-type {\n",
       "        vertical-align: middle;\n",
       "    }\n",
       "\n",
       "    .dataframe tbody tr th {\n",
       "        vertical-align: top;\n",
       "    }\n",
       "\n",
       "    .dataframe thead th {\n",
       "        text-align: right;\n",
       "    }\n",
       "</style>\n",
       "<table border=\"1\" class=\"dataframe\">\n",
       "  <thead>\n",
       "    <tr style=\"text-align: right;\">\n",
       "      <th></th>\n",
       "      <th>date</th>\n",
       "      <th>state</th>\n",
       "      <th>fips</th>\n",
       "      <th>cases</th>\n",
       "      <th>deaths</th>\n",
       "    </tr>\n",
       "  </thead>\n",
       "  <tbody>\n",
       "    <tr>\n",
       "      <th>0</th>\n",
       "      <td>2020-01-21</td>\n",
       "      <td>Washington</td>\n",
       "      <td>53</td>\n",
       "      <td>1</td>\n",
       "      <td>0</td>\n",
       "    </tr>\n",
       "    <tr>\n",
       "      <th>677</th>\n",
       "      <td>2020-03-14</td>\n",
       "      <td>Rhode Island</td>\n",
       "      <td>44</td>\n",
       "      <td>20</td>\n",
       "      <td>0</td>\n",
       "    </tr>\n",
       "  </tbody>\n",
       "</table>\n",
       "</div>"
      ],
      "text/plain": [
       "           date         state  fips  cases  deaths\n",
       "0    2020-01-21    Washington    53      1       0\n",
       "677  2020-03-14  Rhode Island    44     20       0"
      ]
     },
     "execution_count": 25,
     "metadata": {},
     "output_type": "execute_result"
    }
   ],
   "source": [
    "state_data.sort_values('deaths', ascending = True).head(2)  # Checking for any negative death count"
   ]
  },
  {
   "cell_type": "code",
   "execution_count": 26,
   "id": "05b7b539",
   "metadata": {},
   "outputs": [
    {
     "data": {
      "text/html": [
       "<div>\n",
       "<style scoped>\n",
       "    .dataframe tbody tr th:only-of-type {\n",
       "        vertical-align: middle;\n",
       "    }\n",
       "\n",
       "    .dataframe tbody tr th {\n",
       "        vertical-align: top;\n",
       "    }\n",
       "\n",
       "    .dataframe thead th {\n",
       "        text-align: right;\n",
       "    }\n",
       "</style>\n",
       "<table border=\"1\" class=\"dataframe\">\n",
       "  <thead>\n",
       "    <tr style=\"text-align: right;\">\n",
       "      <th></th>\n",
       "      <th>date</th>\n",
       "      <th>state</th>\n",
       "      <th>fips</th>\n",
       "      <th>cases</th>\n",
       "      <th>deaths</th>\n",
       "    </tr>\n",
       "  </thead>\n",
       "  <tbody>\n",
       "    <tr>\n",
       "      <th>0</th>\n",
       "      <td>2020-01-21</td>\n",
       "      <td>Washington</td>\n",
       "      <td>53</td>\n",
       "      <td>1</td>\n",
       "      <td>0</td>\n",
       "    </tr>\n",
       "    <tr>\n",
       "      <th>159</th>\n",
       "      <td>2020-02-20</td>\n",
       "      <td>Washington</td>\n",
       "      <td>53</td>\n",
       "      <td>1</td>\n",
       "      <td>0</td>\n",
       "    </tr>\n",
       "  </tbody>\n",
       "</table>\n",
       "</div>"
      ],
      "text/plain": [
       "           date       state  fips  cases  deaths\n",
       "0    2020-01-21  Washington    53      1       0\n",
       "159  2020-02-20  Washington    53      1       0"
      ]
     },
     "execution_count": 26,
     "metadata": {},
     "output_type": "execute_result"
    }
   ],
   "source": [
    "state_data.sort_values('cases', ascending = True).head(2)  # Checking for any negative case count"
   ]
  },
  {
   "cell_type": "code",
   "execution_count": 27,
   "id": "d38a37db",
   "metadata": {},
   "outputs": [
    {
     "data": {
      "text/html": [
       "<div>\n",
       "<style scoped>\n",
       "    .dataframe tbody tr th:only-of-type {\n",
       "        vertical-align: middle;\n",
       "    }\n",
       "\n",
       "    .dataframe tbody tr th {\n",
       "        vertical-align: top;\n",
       "    }\n",
       "\n",
       "    .dataframe thead th {\n",
       "        text-align: right;\n",
       "    }\n",
       "</style>\n",
       "<table border=\"1\" class=\"dataframe\">\n",
       "  <thead>\n",
       "    <tr style=\"text-align: right;\">\n",
       "      <th></th>\n",
       "      <th>date</th>\n",
       "      <th>state</th>\n",
       "      <th>fips</th>\n",
       "      <th>cases</th>\n",
       "      <th>deaths</th>\n",
       "    </tr>\n",
       "  </thead>\n",
       "  <tbody>\n",
       "    <tr>\n",
       "      <th>8132</th>\n",
       "      <td>2020-07-28</td>\n",
       "      <td>New York</td>\n",
       "      <td>36</td>\n",
       "      <td>417591</td>\n",
       "      <td>32333</td>\n",
       "    </tr>\n",
       "    <tr>\n",
       "      <th>8077</th>\n",
       "      <td>2020-07-27</td>\n",
       "      <td>New York</td>\n",
       "      <td>36</td>\n",
       "      <td>417056</td>\n",
       "      <td>32322</td>\n",
       "    </tr>\n",
       "    <tr>\n",
       "      <th>8022</th>\n",
       "      <td>2020-07-26</td>\n",
       "      <td>New York</td>\n",
       "      <td>36</td>\n",
       "      <td>416443</td>\n",
       "      <td>32305</td>\n",
       "    </tr>\n",
       "  </tbody>\n",
       "</table>\n",
       "</div>"
      ],
      "text/plain": [
       "            date     state  fips   cases  deaths\n",
       "8132  2020-07-28  New York    36  417591   32333\n",
       "8077  2020-07-27  New York    36  417056   32322\n",
       "8022  2020-07-26  New York    36  416443   32305"
      ]
     },
     "execution_count": 27,
     "metadata": {},
     "output_type": "execute_result"
    }
   ],
   "source": [
    "state_data.sort_values('deaths', ascending = False).head(3)    # Checking Max death count"
   ]
  },
  {
   "cell_type": "code",
   "execution_count": 28,
   "id": "418f4a55",
   "metadata": {},
   "outputs": [
    {
     "data": {
      "text/html": [
       "<div>\n",
       "<style scoped>\n",
       "    .dataframe tbody tr th:only-of-type {\n",
       "        vertical-align: middle;\n",
       "    }\n",
       "\n",
       "    .dataframe tbody tr th {\n",
       "        vertical-align: top;\n",
       "    }\n",
       "\n",
       "    .dataframe thead th {\n",
       "        text-align: right;\n",
       "    }\n",
       "</style>\n",
       "<table border=\"1\" class=\"dataframe\">\n",
       "  <thead>\n",
       "    <tr style=\"text-align: right;\">\n",
       "      <th></th>\n",
       "      <th>date</th>\n",
       "      <th>state</th>\n",
       "      <th>fips</th>\n",
       "      <th>cases</th>\n",
       "      <th>deaths</th>\n",
       "    </tr>\n",
       "  </thead>\n",
       "  <tbody>\n",
       "    <tr>\n",
       "      <th>8103</th>\n",
       "      <td>2020-07-28</td>\n",
       "      <td>California</td>\n",
       "      <td>6</td>\n",
       "      <td>474951</td>\n",
       "      <td>8716</td>\n",
       "    </tr>\n",
       "    <tr>\n",
       "      <th>8048</th>\n",
       "      <td>2020-07-27</td>\n",
       "      <td>California</td>\n",
       "      <td>6</td>\n",
       "      <td>467103</td>\n",
       "      <td>8544</td>\n",
       "    </tr>\n",
       "    <tr>\n",
       "      <th>7993</th>\n",
       "      <td>2020-07-26</td>\n",
       "      <td>California</td>\n",
       "      <td>6</td>\n",
       "      <td>459338</td>\n",
       "      <td>8451</td>\n",
       "    </tr>\n",
       "  </tbody>\n",
       "</table>\n",
       "</div>"
      ],
      "text/plain": [
       "            date       state  fips   cases  deaths\n",
       "8103  2020-07-28  California     6  474951    8716\n",
       "8048  2020-07-27  California     6  467103    8544\n",
       "7993  2020-07-26  California     6  459338    8451"
      ]
     },
     "execution_count": 28,
     "metadata": {},
     "output_type": "execute_result"
    }
   ],
   "source": [
    "state_data.sort_values('cases', ascending = False).head(3)    # Checking Max case count"
   ]
  },
  {
   "cell_type": "markdown",
   "id": "d9f15f19",
   "metadata": {},
   "source": [
    "### Observation - Both City-wise Death count & Case count is cumulative"
   ]
  },
  {
   "cell_type": "code",
   "execution_count": 29,
   "id": "ef8c936f",
   "metadata": {},
   "outputs": [
    {
     "name": "stdout",
     "output_type": "stream",
     "text": [
      "55\n",
      "[53 17  6  4 25 55 48 31 49 41 12 36 44 13 33 37 34  8 24 32 47 15 18 21\n",
      " 27 40 42 45 11 20 29 50 51  9 19 22 39 26 46  5 10 28 35 38 56  2 23  1\n",
      " 16 30 72 78 66 54 69]\n"
     ]
    }
   ],
   "source": [
    "print(len(pd.unique(state_data.fips)))    # Distinct fips - Federal Information Processing Standards (FIPS) code in state_data\n",
    "print(pd.unique(state_data.fips))"
   ]
  },
  {
   "cell_type": "code",
   "execution_count": 30,
   "id": "ec45a74b",
   "metadata": {},
   "outputs": [
    {
     "data": {
      "text/plain": [
       "0"
      ]
     },
     "execution_count": 30,
     "metadata": {},
     "output_type": "execute_result"
    }
   ],
   "source": [
    "state_data.duplicated().sum()  #Checking for duplicate rows"
   ]
  },
  {
   "cell_type": "code",
   "execution_count": 31,
   "id": "6db4ce7e",
   "metadata": {},
   "outputs": [],
   "source": [
    "# Rename Columns to maintain column nomenclature consistency between the three tables\n",
    "state_data.rename(columns = {'fips':'state_fips'}, inplace = True)"
   ]
  },
  {
   "cell_type": "code",
   "execution_count": 32,
   "id": "eafbdd94",
   "metadata": {},
   "outputs": [],
   "source": [
    "state_data.to_csv('Clean Data\\\\state_data.csv', index = False)  # Creating CSV post-processing to upload to PostgresSQL"
   ]
  },
  {
   "cell_type": "markdown",
   "id": "bd03d604",
   "metadata": {},
   "source": [
    "# US Community Mobility Data\n",
    "### Displays the change in visits to places in %age points"
   ]
  },
  {
   "cell_type": "code",
   "execution_count": 33,
   "id": "7de15b8d",
   "metadata": {},
   "outputs": [
    {
     "data": {
      "text/plain": [
       "state                    object\n",
       "county                   object\n",
       "date                     object\n",
       "retail                  float64\n",
       "grocery_and_pharmacy    float64\n",
       "parks                   float64\n",
       "transit_stations        float64\n",
       "workplaces              float64\n",
       "residential             float64\n",
       "dtype: object"
      ]
     },
     "execution_count": 33,
     "metadata": {},
     "output_type": "execute_result"
    }
   ],
   "source": [
    "mobility_data.dtypes"
   ]
  },
  {
   "cell_type": "code",
   "execution_count": 34,
   "id": "c6a2cc3c",
   "metadata": {
    "scrolled": false
   },
   "outputs": [
    {
     "data": {
      "text/plain": [
       "state                        0\n",
       "county                       0\n",
       "date                         0\n",
       "retail                   21667\n",
       "grocery_and_pharmacy     26038\n",
       "parks                   114449\n",
       "transit_stations         95514\n",
       "workplaces                9029\n",
       "residential              83002\n",
       "dtype: int64"
      ]
     },
     "execution_count": 34,
     "metadata": {},
     "output_type": "execute_result"
    }
   ],
   "source": [
    "mobility_data.isna().sum()   # Chaecking missing values in dataframe"
   ]
  },
  {
   "cell_type": "code",
   "execution_count": 35,
   "id": "f3362da6",
   "metadata": {
    "scrolled": false
   },
   "outputs": [
    {
     "name": "stdout",
     "output_type": "stream",
     "text": [
      "The Earliest Date in this column is 2020-02-15\n",
      "The Latest Date in this column is 2020-04-11\n"
     ]
    }
   ],
   "source": [
    "#Check Date Range for abnormalities\n",
    "print( \"The Earliest Date in this column is\", mobility_data.date.min())\n",
    "print( \"The Latest Date in this column is\", mobility_data.date.max())"
   ]
  },
  {
   "cell_type": "code",
   "execution_count": 36,
   "id": "f6ed790e",
   "metadata": {},
   "outputs": [
    {
     "data": {
      "text/plain": [
       "retail                  226.0\n",
       "grocery_and_pharmacy    174.0\n",
       "parks                   308.0\n",
       "transit_stations        222.0\n",
       "workplaces               43.0\n",
       "residential              38.0\n",
       "dtype: float64"
      ]
     },
     "execution_count": 36,
     "metadata": {},
     "output_type": "execute_result"
    }
   ],
   "source": [
    "# Checking max increase in percentage points\n",
    "mobility_data[['retail', 'grocery_and_pharmacy', 'parks', 'transit_stations', 'workplaces', 'residential']].max()"
   ]
  },
  {
   "cell_type": "code",
   "execution_count": 37,
   "id": "c33566e5",
   "metadata": {
    "scrolled": true
   },
   "outputs": [
    {
     "data": {
      "text/plain": [
       "retail                 -100.0\n",
       "grocery_and_pharmacy    -74.0\n",
       "parks                   -90.0\n",
       "transit_stations        -91.0\n",
       "workplaces              -80.0\n",
       "residential              -7.0\n",
       "dtype: float64"
      ]
     },
     "execution_count": 37,
     "metadata": {},
     "output_type": "execute_result"
    }
   ],
   "source": [
    "# Checking max decrease in percentage points ( Should not go below -100)\n",
    "mobility_data[['retail', 'grocery_and_pharmacy', 'parks', 'transit_stations', 'workplaces', 'residential']].min()"
   ]
  },
  {
   "cell_type": "code",
   "execution_count": 58,
   "id": "65c2b67a",
   "metadata": {},
   "outputs": [
    {
     "data": {
      "text/html": [
       "<div>\n",
       "<style scoped>\n",
       "    .dataframe tbody tr th:only-of-type {\n",
       "        vertical-align: middle;\n",
       "    }\n",
       "\n",
       "    .dataframe tbody tr th {\n",
       "        vertical-align: top;\n",
       "    }\n",
       "\n",
       "    .dataframe thead th {\n",
       "        text-align: right;\n",
       "    }\n",
       "</style>\n",
       "<table border=\"1\" class=\"dataframe\">\n",
       "  <thead>\n",
       "    <tr style=\"text-align: right;\">\n",
       "      <th></th>\n",
       "      <th>state</th>\n",
       "      <th>county</th>\n",
       "      <th>date</th>\n",
       "      <th>retail</th>\n",
       "      <th>grocery_and_pharmacy</th>\n",
       "      <th>parks</th>\n",
       "      <th>transit_stations</th>\n",
       "      <th>workplaces</th>\n",
       "      <th>residential</th>\n",
       "    </tr>\n",
       "  </thead>\n",
       "  <tbody>\n",
       "    <tr>\n",
       "      <th>0</th>\n",
       "      <td>Total</td>\n",
       "      <td>Total</td>\n",
       "      <td>2020-02-15</td>\n",
       "      <td>6.0</td>\n",
       "      <td>2.0</td>\n",
       "      <td>15.0</td>\n",
       "      <td>3.0</td>\n",
       "      <td>2.0</td>\n",
       "      <td>-1.0</td>\n",
       "    </tr>\n",
       "    <tr>\n",
       "      <th>1</th>\n",
       "      <td>Total</td>\n",
       "      <td>Total</td>\n",
       "      <td>2020-02-16</td>\n",
       "      <td>7.0</td>\n",
       "      <td>1.0</td>\n",
       "      <td>16.0</td>\n",
       "      <td>2.0</td>\n",
       "      <td>0.0</td>\n",
       "      <td>-1.0</td>\n",
       "    </tr>\n",
       "    <tr>\n",
       "      <th>2</th>\n",
       "      <td>Total</td>\n",
       "      <td>Total</td>\n",
       "      <td>2020-02-17</td>\n",
       "      <td>6.0</td>\n",
       "      <td>0.0</td>\n",
       "      <td>28.0</td>\n",
       "      <td>-9.0</td>\n",
       "      <td>-24.0</td>\n",
       "      <td>5.0</td>\n",
       "    </tr>\n",
       "    <tr>\n",
       "      <th>3</th>\n",
       "      <td>Total</td>\n",
       "      <td>Total</td>\n",
       "      <td>2020-02-18</td>\n",
       "      <td>0.0</td>\n",
       "      <td>-1.0</td>\n",
       "      <td>6.0</td>\n",
       "      <td>1.0</td>\n",
       "      <td>0.0</td>\n",
       "      <td>1.0</td>\n",
       "    </tr>\n",
       "    <tr>\n",
       "      <th>4</th>\n",
       "      <td>Total</td>\n",
       "      <td>Total</td>\n",
       "      <td>2020-02-19</td>\n",
       "      <td>2.0</td>\n",
       "      <td>0.0</td>\n",
       "      <td>8.0</td>\n",
       "      <td>1.0</td>\n",
       "      <td>1.0</td>\n",
       "      <td>0.0</td>\n",
       "    </tr>\n",
       "    <tr>\n",
       "      <th>...</th>\n",
       "      <td>...</td>\n",
       "      <td>...</td>\n",
       "      <td>...</td>\n",
       "      <td>...</td>\n",
       "      <td>...</td>\n",
       "      <td>...</td>\n",
       "      <td>...</td>\n",
       "      <td>...</td>\n",
       "      <td>...</td>\n",
       "    </tr>\n",
       "    <tr>\n",
       "      <th>155055</th>\n",
       "      <td>Wyoming</td>\n",
       "      <td>Weston County</td>\n",
       "      <td>2020-04-06</td>\n",
       "      <td>NaN</td>\n",
       "      <td>NaN</td>\n",
       "      <td>NaN</td>\n",
       "      <td>NaN</td>\n",
       "      <td>-39.0</td>\n",
       "      <td>NaN</td>\n",
       "    </tr>\n",
       "    <tr>\n",
       "      <th>155056</th>\n",
       "      <td>Wyoming</td>\n",
       "      <td>Weston County</td>\n",
       "      <td>2020-04-07</td>\n",
       "      <td>NaN</td>\n",
       "      <td>NaN</td>\n",
       "      <td>NaN</td>\n",
       "      <td>NaN</td>\n",
       "      <td>-37.0</td>\n",
       "      <td>NaN</td>\n",
       "    </tr>\n",
       "    <tr>\n",
       "      <th>155057</th>\n",
       "      <td>Wyoming</td>\n",
       "      <td>Weston County</td>\n",
       "      <td>2020-04-08</td>\n",
       "      <td>NaN</td>\n",
       "      <td>NaN</td>\n",
       "      <td>NaN</td>\n",
       "      <td>NaN</td>\n",
       "      <td>-36.0</td>\n",
       "      <td>NaN</td>\n",
       "    </tr>\n",
       "    <tr>\n",
       "      <th>155058</th>\n",
       "      <td>Wyoming</td>\n",
       "      <td>Weston County</td>\n",
       "      <td>2020-04-09</td>\n",
       "      <td>NaN</td>\n",
       "      <td>NaN</td>\n",
       "      <td>NaN</td>\n",
       "      <td>NaN</td>\n",
       "      <td>-31.0</td>\n",
       "      <td>NaN</td>\n",
       "    </tr>\n",
       "    <tr>\n",
       "      <th>155059</th>\n",
       "      <td>Wyoming</td>\n",
       "      <td>Weston County</td>\n",
       "      <td>2020-04-10</td>\n",
       "      <td>NaN</td>\n",
       "      <td>NaN</td>\n",
       "      <td>NaN</td>\n",
       "      <td>NaN</td>\n",
       "      <td>-43.0</td>\n",
       "      <td>NaN</td>\n",
       "    </tr>\n",
       "  </tbody>\n",
       "</table>\n",
       "<p>155060 rows × 9 columns</p>\n",
       "</div>"
      ],
      "text/plain": [
       "          state         county        date  retail  grocery_and_pharmacy  \\\n",
       "0         Total          Total  2020-02-15     6.0                   2.0   \n",
       "1         Total          Total  2020-02-16     7.0                   1.0   \n",
       "2         Total          Total  2020-02-17     6.0                   0.0   \n",
       "3         Total          Total  2020-02-18     0.0                  -1.0   \n",
       "4         Total          Total  2020-02-19     2.0                   0.0   \n",
       "...         ...            ...         ...     ...                   ...   \n",
       "155055  Wyoming  Weston County  2020-04-06     NaN                   NaN   \n",
       "155056  Wyoming  Weston County  2020-04-07     NaN                   NaN   \n",
       "155057  Wyoming  Weston County  2020-04-08     NaN                   NaN   \n",
       "155058  Wyoming  Weston County  2020-04-09     NaN                   NaN   \n",
       "155059  Wyoming  Weston County  2020-04-10     NaN                   NaN   \n",
       "\n",
       "        parks  transit_stations  workplaces  residential  \n",
       "0        15.0               3.0         2.0         -1.0  \n",
       "1        16.0               2.0         0.0         -1.0  \n",
       "2        28.0              -9.0       -24.0          5.0  \n",
       "3         6.0               1.0         0.0          1.0  \n",
       "4         8.0               1.0         1.0          0.0  \n",
       "...       ...               ...         ...          ...  \n",
       "155055    NaN               NaN       -39.0          NaN  \n",
       "155056    NaN               NaN       -37.0          NaN  \n",
       "155057    NaN               NaN       -36.0          NaN  \n",
       "155058    NaN               NaN       -31.0          NaN  \n",
       "155059    NaN               NaN       -43.0          NaN  \n",
       "\n",
       "[155060 rows x 9 columns]"
      ]
     },
     "execution_count": 58,
     "metadata": {},
     "output_type": "execute_result"
    }
   ],
   "source": [
    "mobility_data"
   ]
  },
  {
   "cell_type": "code",
   "execution_count": 38,
   "id": "95851f6b",
   "metadata": {},
   "outputs": [],
   "source": [
    "mobility_data.to_csv('Clean Data\\\\mobility_data.csv', index = False)  # Creating CSV post-processing to upload to PostgresSQL"
   ]
  },
  {
   "cell_type": "markdown",
   "id": "58dcfda1",
   "metadata": {},
   "source": [
    "# Connect & Push data to PostGres"
   ]
  },
  {
   "cell_type": "code",
   "execution_count": 39,
   "id": "30c1f514",
   "metadata": {},
   "outputs": [],
   "source": [
    "conn = psycopg2.connect(database=\"covid\",\n",
    "                        user='postgres', password='arnav1609', \n",
    "                        host='127.0.0.1', port='5432')\n",
    "conn.autocommit = True\n",
    "cursor = conn.cursor()"
   ]
  },
  {
   "cell_type": "code",
   "execution_count": 40,
   "id": "3fb111b0",
   "metadata": {},
   "outputs": [],
   "source": [
    "sql1 = '''CREATE TABLE county_data(county_fips int, county_name varchar(255),\n",
    "                                state_name varchar(255), state_fips int, date date,\n",
    "                                deaths int, lat float, long float, geometry varchar(255));'''  \n",
    "\n",
    "cursor.execute(sql1)"
   ]
  },
  {
   "cell_type": "code",
   "execution_count": 41,
   "id": "a2396930",
   "metadata": {},
   "outputs": [],
   "source": [
    "sql2 = '''COPY county_data(county_fips, county_name,\n",
    "                                state_name, state_fips, date,\n",
    "                                deaths, lat, long, geometry)\n",
    "                                FROM 'C:\\\\Users\\\\LENOVO LEGION\\\\Desktop\\\\QureAssignment\\\\Clean Data\\\\county_data.csv'\n",
    "                                DELIMITER ','\n",
    "                                CSV HEADER;'''\n",
    "  \n",
    "cursor.execute(sql2)"
   ]
  },
  {
   "cell_type": "code",
   "execution_count": 42,
   "id": "59f35594",
   "metadata": {},
   "outputs": [],
   "source": [
    "sql3 = '''CREATE TABLE state_data(date date, state varchar(255), fips int, \n",
    "                                cases int, deaths int);'''  \n",
    "cursor.execute(sql3)"
   ]
  },
  {
   "cell_type": "code",
   "execution_count": 43,
   "id": "0f9f8e43",
   "metadata": {},
   "outputs": [],
   "source": [
    "sql4 = '''COPY state_data(date, state, fips, cases, deaths)\n",
    "                                FROM 'C:\\\\Users\\\\LENOVO LEGION\\\\Desktop\\\\QureAssignment\\\\Clean Data\\\\state_data.csv'\n",
    "                                DELIMITER ','\n",
    "                                CSV HEADER;'''\n",
    "  \n",
    "cursor.execute(sql4)"
   ]
  },
  {
   "cell_type": "code",
   "execution_count": 44,
   "id": "a6943145",
   "metadata": {},
   "outputs": [],
   "source": [
    "sql5 = '''CREATE TABLE mobility_data(state varchar(255), county varchar(255), date date, retail float,\n",
    "                                grocery_and_pharmacy float, parks float, transit_stations float,\n",
    "                                workplaces float, residential float);'''  \n",
    "\n",
    "cursor.execute(sql5)"
   ]
  },
  {
   "cell_type": "code",
   "execution_count": 45,
   "id": "7567cf31",
   "metadata": {},
   "outputs": [],
   "source": [
    "sql6 = '''COPY mobility_data(state, county, date, retail,\n",
    "                                grocery_and_pharmacy, parks, \n",
    "                                transit_stations, workplaces, residential)\n",
    "                                FROM 'C:\\\\Users\\\\LENOVO LEGION\\\\Desktop\\\\QureAssignment\\\\Clean Data\\\\mobility_data.csv'\n",
    "                                DELIMITER ','\n",
    "                                CSV HEADER;'''\n",
    "  \n",
    "cursor.execute(sql6)"
   ]
  },
  {
   "cell_type": "code",
   "execution_count": 46,
   "id": "7e3eb739",
   "metadata": {},
   "outputs": [
    {
     "ename": "ProgrammingError",
     "evalue": "no results to fetch",
     "output_type": "error",
     "traceback": [
      "\u001b[1;31m---------------------------------------------------------------------------\u001b[0m",
      "\u001b[1;31mProgrammingError\u001b[0m                          Traceback (most recent call last)",
      "Input \u001b[1;32mIn [46]\u001b[0m, in \u001b[0;36m<cell line: 1>\u001b[1;34m()\u001b[0m\n\u001b[1;32m----> 1\u001b[0m \u001b[38;5;28;01mfor\u001b[39;00m i \u001b[38;5;129;01min\u001b[39;00m \u001b[43mcursor\u001b[49m\u001b[38;5;241;43m.\u001b[39;49m\u001b[43mfetchall\u001b[49m\u001b[43m(\u001b[49m\u001b[43m)\u001b[49m:\n\u001b[0;32m      2\u001b[0m     \u001b[38;5;28mprint\u001b[39m(i)\n\u001b[0;32m      4\u001b[0m conn\u001b[38;5;241m.\u001b[39mcommit()\n",
      "\u001b[1;31mProgrammingError\u001b[0m: no results to fetch"
     ]
    }
   ],
   "source": [
    "for i in cursor.fetchall():\n",
    "    print(i)\n",
    "  \n",
    "conn.commit()\n",
    "conn.close()"
   ]
  }
 ],
 "metadata": {
  "kernelspec": {
   "display_name": "Python 3 (ipykernel)",
   "language": "python",
   "name": "python3"
  },
  "language_info": {
   "codemirror_mode": {
    "name": "ipython",
    "version": 3
   },
   "file_extension": ".py",
   "mimetype": "text/x-python",
   "name": "python",
   "nbconvert_exporter": "python",
   "pygments_lexer": "ipython3",
   "version": "3.9.12"
  }
 },
 "nbformat": 4,
 "nbformat_minor": 5
}
